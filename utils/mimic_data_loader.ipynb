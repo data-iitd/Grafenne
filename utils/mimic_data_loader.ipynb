{
 "cells": [
  {
   "cell_type": "code",
   "execution_count": 16,
   "id": "ceecfe43-f879-49fc-995c-4f256fa1d13c",
   "metadata": {},
   "outputs": [],
   "source": [
    "from torch_geometric.data import Data\n",
    "import pandas as pd\n",
    "import json\n",
    "import numpy as np\n",
    "from sklearn import preprocessing\n",
    "import torch\n",
    "import sys\n",
    "import os\n",
    "import pickle"
   ]
  },
  {
   "cell_type": "code",
   "execution_count": 18,
   "id": "39bb4861-8cfb-40ce-b416-137c8fc74913",
   "metadata": {},
   "outputs": [
    {
     "name": "stdout",
     "output_type": "stream",
     "text": [
      "/home/ctgnn/ctgnn/src/data/Mimic3/\n",
      "111175 (11840, 9)\n"
     ]
    }
   ],
   "source": [
    "import pathlib\n",
    "src_dir = os.path.dirname(str(pathlib.Path().resolve()))\n",
    "data_dir = src_dir+\"/data/Mimic3/\"\n",
    "print(data_dir)\n",
    "edge_list = pickle.load(open(data_dir+\"/edge_list.pkl\",\"rb\"))\n",
    "admissions = pd.read_pickle(data_dir+\"/processed_admissions.pkl\")\n",
    "print(len(edge_list),admissions.shape)"
   ]
  },
  {
   "cell_type": "code",
   "execution_count": 19,
   "id": "07b18136-9435-4e5e-b3f1-2e1158477c9c",
   "metadata": {},
   "outputs": [
    {
     "data": {
      "text/html": [
       "<div>\n",
       "<style scoped>\n",
       "    .dataframe tbody tr th:only-of-type {\n",
       "        vertical-align: middle;\n",
       "    }\n",
       "\n",
       "    .dataframe tbody tr th {\n",
       "        vertical-align: top;\n",
       "    }\n",
       "\n",
       "    .dataframe thead th {\n",
       "        text-align: right;\n",
       "    }\n",
       "</style>\n",
       "<table border=\"1\" class=\"dataframe\">\n",
       "  <thead>\n",
       "    <tr style=\"text-align: right;\">\n",
       "      <th></th>\n",
       "      <th>HADM_ID</th>\n",
       "      <th>SUBJECT_ID</th>\n",
       "      <th>MARITAL_STATUS</th>\n",
       "      <th>HOSPITAL_EXPIRE_FLAG</th>\n",
       "      <th>DIAGNOSIS</th>\n",
       "      <th>GENDER</th>\n",
       "      <th>PROCED_ICD9_CODES</th>\n",
       "      <th>DRUGS</th>\n",
       "      <th>LAB_ITEMIDS</th>\n",
       "    </tr>\n",
       "  </thead>\n",
       "  <tbody>\n",
       "    <tr>\n",
       "      <th>0</th>\n",
       "      <td>165315</td>\n",
       "      <td>22</td>\n",
       "      <td>MARRIED</td>\n",
       "      <td>0</td>\n",
       "      <td>BENZODIAZEPINE OVERDOSE</td>\n",
       "      <td>F</td>\n",
       "      <td>[96]</td>\n",
       "      <td>[]</td>\n",
       "      <td>[51221, 51279, 50931, 50971]</td>\n",
       "    </tr>\n",
       "    <tr>\n",
       "      <th>1</th>\n",
       "      <td>129635</td>\n",
       "      <td>25</td>\n",
       "      <td>MARRIED</td>\n",
       "      <td>0</td>\n",
       "      <td>ACUTE CORONARY SYNDROME</td>\n",
       "      <td>M</td>\n",
       "      <td>[88, 37, 99, 36]</td>\n",
       "      <td>[Heparin Sodium, D5 1/2NS, Dextrose 5%, D5W, N...</td>\n",
       "      <td>[50902, 50908, 50911, 50912, 50931, 51003, 510...</td>\n",
       "    </tr>\n",
       "    <tr>\n",
       "      <th>2</th>\n",
       "      <td>188670</td>\n",
       "      <td>37</td>\n",
       "      <td>MARRIED</td>\n",
       "      <td>0</td>\n",
       "      <td>CONGESTIVE HEART FAILURE</td>\n",
       "      <td>M</td>\n",
       "      <td>[45, 99]</td>\n",
       "      <td>[Eptifibatide, SW, Clopidogrel Bisulfate, Digo...</td>\n",
       "      <td>[50910, 50911, 50931, 51003, 51006, 51221, 512...</td>\n",
       "    </tr>\n",
       "    <tr>\n",
       "      <th>3</th>\n",
       "      <td>101651</td>\n",
       "      <td>357</td>\n",
       "      <td>MARRIED</td>\n",
       "      <td>0</td>\n",
       "      <td>PNEUMONIA</td>\n",
       "      <td>M</td>\n",
       "      <td>[96, 38]</td>\n",
       "      <td>[Lactulose, LeVETiracetam, 1/2 NS, LeVETiracet...</td>\n",
       "      <td>[50863, 50882, 50902, 50931, 50963, 50983, 509...</td>\n",
       "    </tr>\n",
       "    <tr>\n",
       "      <th>4</th>\n",
       "      <td>117876</td>\n",
       "      <td>357</td>\n",
       "      <td>MARRIED</td>\n",
       "      <td>0</td>\n",
       "      <td>ALTERED MENTAL STATUS</td>\n",
       "      <td>M</td>\n",
       "      <td>[96, 14, 34, 38]</td>\n",
       "      <td>[Linezolid, Potassium Chloride, Vial, Pantopra...</td>\n",
       "      <td>[51250, 51265, 51274, 51277, 51279, 51301, 509...</td>\n",
       "    </tr>\n",
       "  </tbody>\n",
       "</table>\n",
       "</div>"
      ],
      "text/plain": [
       "   HADM_ID  SUBJECT_ID MARITAL_STATUS  HOSPITAL_EXPIRE_FLAG  \\\n",
       "0   165315          22        MARRIED                     0   \n",
       "1   129635          25        MARRIED                     0   \n",
       "2   188670          37        MARRIED                     0   \n",
       "3   101651         357        MARRIED                     0   \n",
       "4   117876         357        MARRIED                     0   \n",
       "\n",
       "                  DIAGNOSIS GENDER PROCED_ICD9_CODES  \\\n",
       "0   BENZODIAZEPINE OVERDOSE      F              [96]   \n",
       "1   ACUTE CORONARY SYNDROME      M  [88, 37, 99, 36]   \n",
       "2  CONGESTIVE HEART FAILURE      M          [45, 99]   \n",
       "3                 PNEUMONIA      M          [96, 38]   \n",
       "4     ALTERED MENTAL STATUS      M  [96, 14, 34, 38]   \n",
       "\n",
       "                                               DRUGS  \\\n",
       "0                                                 []   \n",
       "1  [Heparin Sodium, D5 1/2NS, Dextrose 5%, D5W, N...   \n",
       "2  [Eptifibatide, SW, Clopidogrel Bisulfate, Digo...   \n",
       "3  [Lactulose, LeVETiracetam, 1/2 NS, LeVETiracet...   \n",
       "4  [Linezolid, Potassium Chloride, Vial, Pantopra...   \n",
       "\n",
       "                                         LAB_ITEMIDS  \n",
       "0                       [51221, 51279, 50931, 50971]  \n",
       "1  [50902, 50908, 50911, 50912, 50931, 51003, 510...  \n",
       "2  [50910, 50911, 50931, 51003, 51006, 51221, 512...  \n",
       "3  [50863, 50882, 50902, 50931, 50963, 50983, 509...  \n",
       "4  [51250, 51265, 51274, 51277, 51279, 51301, 509...  "
      ]
     },
     "execution_count": 19,
     "metadata": {},
     "output_type": "execute_result"
    }
   ],
   "source": [
    "admissions.head()"
   ]
  },
  {
   "cell_type": "code",
   "execution_count": 20,
   "id": "8086199f-56dc-4108-9b9e-96e2090a66a8",
   "metadata": {},
   "outputs": [],
   "source": [
    "def get_item_to_id_dict(lsts):\n",
    "    dict_ = {}\n",
    "    for j in lsts:\n",
    "        if j != '' and j not in dict_:\n",
    "            dict_[j] = len(dict_)\n",
    "    return dict_\n",
    "def get_items_to_id_dict(lsts):\n",
    "    dict_ = {}\n",
    "    for i in lsts:\n",
    "        for j in i:\n",
    "            if j not in dict_:\n",
    "                dict_[j] = len(dict_)\n",
    "    return dict_"
   ]
  },
  {
   "cell_type": "code",
   "execution_count": 22,
   "id": "636d115a-e2ef-4844-9ca3-15eb6bbb75a9",
   "metadata": {},
   "outputs": [],
   "source": [
    "node_to_id = get_item_to_id_dict(admissions['HADM_ID'])\n",
    "gender_to_id = get_item_to_id_dict(admissions['GENDER'])\n",
    "proced_to_id = get_items_to_id_dict(admissions['PROCED_ICD9_CODES'])\n",
    "drugs_to_id = get_items_to_id_dict(admissions['DRUGS'])\n",
    "lab_items_to_id = get_items_to_id_dict(admissions['LAB_ITEMIDS'])"
   ]
  },
  {
   "cell_type": "code",
   "execution_count": 30,
   "id": "2a75730e-c687-4a9d-af39-587253b89662",
   "metadata": {},
   "outputs": [
    {
     "name": "stdout",
     "output_type": "stream",
     "text": [
      "222350\n"
     ]
    }
   ],
   "source": [
    "final_edge_list = []\n",
    "for edge in edge_list:\n",
    "    node1 = node_to_id[edge[0]]\n",
    "    node2 = node_to_id[edge[1]]\n",
    "    final_edge_list.append((node1,node2))\n",
    "    final_edge_list.append((node2,node1))\n",
    "print(len(final_edge_list))\n",
    "\n",
    "print(len(final_edge_list))\n",
    "final_edge_list = list(set(final_edge_list))\n",
    "print(len(final_edge_list))\n",
    "assert np.max(final_edge_list) + 1 == len(node_to_id)\n",
    "final_edge_list = np.transpose(final_edge_list)\n",
    "edge_index = torch.tensor(final_edge_list,dtype=torch.long)\n",
    "print(edge_index.shape)"
   ]
  },
  {
   "cell_type": "code",
   "execution_count": 51,
   "id": "b12be14f-d99d-4459-8fcc-7c15b95f6690",
   "metadata": {},
   "outputs": [
    {
     "name": "stdout",
     "output_type": "stream",
     "text": [
      "11840 (11840, 1186)\n"
     ]
    }
   ],
   "source": [
    "Y = [0]*len(node_to_id)\n",
    "node_feats = [0]*len(node_to_id)\n",
    "for node,HOSPITAL_EXPIRE_FLAG,GENDER,PROCED_ICD9_CODES,DRUGS,LAB_ITEMIDS in admissions[['HADM_ID','HOSPITAL_EXPIRE_FLAG','GENDER','PROCED_ICD9_CODES','DRUGS','LAB_ITEMIDS']].values:   \n",
    "    index = node_to_id[node]\n",
    "    y_label = int(HOSPITAL_EXPIRE_FLAG)\n",
    "    gender_vector = np.zeros(2)\n",
    "    proced_vector = np.zeros(len(proced_to_id))\n",
    "    drug_vector = np.zeros(len(drugs_to_id))\n",
    "    lab_item_vector = np.zeros(len(lab_items_to_id))\n",
    "    if GENDER in gender_to_id:\n",
    "        gender_vector[gender_to_id[GENDER]] = 1\n",
    "    for item in PROCED_ICD9_CODES:\n",
    "        proced_vector[proced_to_id[item]]= 1\n",
    "    for item in DRUGS:\n",
    "        drug_vector[drugs_to_id[item]]= 1\n",
    "    for item in LAB_ITEMIDS:\n",
    "        lab_item_vector[lab_items_to_id[item]]= 1\n",
    "    \n",
    "    feat_vector = np.concatenate((gender_vector,proced_vector,drug_vector,lab_item_vector))\n",
    "    #print(feat_vector.shape)\n",
    "    #print(feat_vector.sum())\n",
    "    #print(index)\n",
    "    Y[index] = y_label\n",
    "    node_feats[index] = feat_vector\n",
    "Y = np.array(Y)\n",
    "node_feats = np.array(node_feats)\n",
    "print(len(Y),node_feats.shape)\n",
    "print(sum(node_feats.sum(axis=1)==0))\n",
    "\n",
    "node_feats = torch.tensor(node_feats,dtype=torch.bool) ## boolean features present or absent\n",
    "print(node_feats.shape)"
   ]
  },
  {
   "cell_type": "code",
   "execution_count": 67,
   "id": "827fef92-3b6c-4e69-9251-1b8e84b7451b",
   "metadata": {},
   "outputs": [],
   "source": [
    "\n",
    "data = Data(\n",
    "        x=node_feats,\n",
    "        edge_index=edge_index,\n",
    "        y=torch.tensor(Y,dtype=torch.long),\n",
    "        train_mask = torch.ones(len(Y),dtype=torch.bool), ### placeholder for masks\n",
    "        val_mask = torch.ones(len(Y),dtype=torch.bool), ### placeholder for masks\n",
    "        test_mask = torch.ones(len(Y),dtype=torch.bool), ### placeholder for masks\n",
    "        num_nodes = node_feats.shape[0],\n",
    "        num_features = node_feats.shape[1]\n",
    "\n",
    ")"
   ]
  },
  {
   "cell_type": "code",
   "execution_count": 68,
   "id": "6f7c20e0-7e00-4a75-b78e-fb9b40cde05c",
   "metadata": {},
   "outputs": [
    {
     "data": {
      "text/plain": [
       "Data(x=[11840, 1186], edge_index=[2, 222350], y=[11840], train_mask=[11840], val_mask=[11840], test_mask=[11840], num_nodes=11840, num_features=1186)"
      ]
     },
     "execution_count": 68,
     "metadata": {},
     "output_type": "execute_result"
    }
   ],
   "source": [
    "data"
   ]
  },
  {
   "cell_type": "code",
   "execution_count": 65,
   "id": "3f70d131-cc0b-4c57-8d6e-7d46f59f7a4c",
   "metadata": {},
   "outputs": [
    {
     "name": "stdout",
     "output_type": "stream",
     "text": [
      "torch.Size([2, 222350])\n"
     ]
    }
   ],
   "source": []
  },
  {
   "cell_type": "code",
   "execution_count": 32,
   "id": "3a81f687-1696-441c-b2c3-876404c01473",
   "metadata": {},
   "outputs": [
    {
     "ename": "NameError",
     "evalue": "name 'edge_file' is not defined",
     "output_type": "error",
     "traceback": [
      "\u001b[0;31m---------------------------------------------------------------------------\u001b[0m",
      "\u001b[0;31mNameError\u001b[0m                                 Traceback (most recent call last)",
      "\u001b[0;32m/tmp/ipykernel_7574/2456991385.py\u001b[0m in \u001b[0;36m<module>\u001b[0;34m\u001b[0m\n\u001b[0;32m----> 1\u001b[0;31m \u001b[0medges\u001b[0m \u001b[0;34m=\u001b[0m \u001b[0mpd\u001b[0m\u001b[0;34m.\u001b[0m\u001b[0mread_csv\u001b[0m\u001b[0;34m(\u001b[0m\u001b[0medge_file\u001b[0m\u001b[0;34m)\u001b[0m\u001b[0;34m\u001b[0m\u001b[0;34m\u001b[0m\u001b[0m\n\u001b[0m\u001b[1;32m      2\u001b[0m \u001b[0mfeatures\u001b[0m \u001b[0;34m=\u001b[0m \u001b[0mjson\u001b[0m\u001b[0;34m.\u001b[0m\u001b[0mload\u001b[0m\u001b[0;34m(\u001b[0m\u001b[0mopen\u001b[0m\u001b[0;34m(\u001b[0m\u001b[0mfeature_file\u001b[0m\u001b[0;34m)\u001b[0m\u001b[0;34m)\u001b[0m\u001b[0;34m\u001b[0m\u001b[0;34m\u001b[0m\u001b[0m\n\u001b[1;32m      3\u001b[0m \u001b[0mtargets\u001b[0m \u001b[0;34m=\u001b[0m \u001b[0mpd\u001b[0m\u001b[0;34m.\u001b[0m\u001b[0mread_csv\u001b[0m\u001b[0;34m(\u001b[0m\u001b[0mtarget_file\u001b[0m\u001b[0;34m)\u001b[0m\u001b[0;34m\u001b[0m\u001b[0;34m\u001b[0m\u001b[0m\n\u001b[1;32m      4\u001b[0m \u001b[0;34m\u001b[0m\u001b[0m\n\u001b[1;32m      5\u001b[0m \u001b[0medge_list\u001b[0m \u001b[0;34m=\u001b[0m \u001b[0mnp\u001b[0m\u001b[0;34m.\u001b[0m\u001b[0marray\u001b[0m\u001b[0;34m(\u001b[0m\u001b[0mcreate_edge_list\u001b[0m\u001b[0;34m(\u001b[0m\u001b[0medges\u001b[0m\u001b[0;34m)\u001b[0m\u001b[0;34m)\u001b[0m\u001b[0;34m\u001b[0m\u001b[0;34m\u001b[0m\u001b[0m\n",
      "\u001b[0;31mNameError\u001b[0m: name 'edge_file' is not defined"
     ]
    }
   ],
   "source": [
    "\n",
    "    edges = pd.read_csv(edge_file)\n",
    "    features = json.load(open(feature_file))\n",
    "    targets = pd.read_csv(target_file)\n",
    "\n",
    "    edge_list = np.array(create_edge_list(edges))\n",
    "    node_targets = extract_target(targets,data_type)\n",
    "    assert np.max(edge_list) + 1 == len(node_targets)\n",
    "    Y = []\n",
    "    for node_id in range(0, len(node_targets)):\n",
    "        Y.append(node_targets[node_id])\n",
    "    feature_matrix = extract_feature_matrix(features,node_targets)\n",
    "\n",
    "\n",
    "    edge_list = np.transpose(edge_list)\n",
    "    #print(edge_list.shape)\n",
    "    node_feat = torch.tensor(feature_matrix,dtype=torch.bool) ## boolean features present or absent\n",
    "\n",
    "    data = Data(\n",
    "            x=node_feat,\n",
    "            edge_index=edge_index,\n",
    "            y=torch.tensor(Y,dtype=torch.long),\n",
    "            train_mask = torch.ones(len(Y),dtype=torch.bool), ### placeholder for masks\n",
    "            val_mask = torch.ones(len(Y),dtype=torch.bool), ### placeholder for masks\n",
    "            test_mask = torch.ones(len(Y),dtype=torch.bool), ### placeholder for masks\n",
    "            num_nodes = node_feat.shape[0],\n",
    "            num_features = node_feat.shape[1]\n",
    "\n",
    "    )\n",
    "    return data"
   ]
  },
  {
   "cell_type": "code",
   "execution_count": null,
   "id": "2db878a6-960e-4d34-9ec7-aaf768b1a605",
   "metadata": {},
   "outputs": [],
   "source": []
  },
  {
   "cell_type": "code",
   "execution_count": null,
   "id": "4fd3152f-ce65-4d46-bd74-3fb941e415de",
   "metadata": {},
   "outputs": [],
   "source": []
  }
 ],
 "metadata": {
  "kernelspec": {
   "display_name": "Python 3 (ipykernel)",
   "language": "python",
   "name": "python3"
  },
  "language_info": {
   "codemirror_mode": {
    "name": "ipython",
    "version": 3
   },
   "file_extension": ".py",
   "mimetype": "text/x-python",
   "name": "python",
   "nbconvert_exporter": "python",
   "pygments_lexer": "ipython3",
   "version": "3.9.7"
  }
 },
 "nbformat": 4,
 "nbformat_minor": 5
}
